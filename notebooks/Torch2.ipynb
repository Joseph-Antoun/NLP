{
 "cells": [
  {
   "cell_type": "code",
   "execution_count": 9,
   "metadata": {},
   "outputs": [],
   "source": [
    "import pandas as pd\n",
    "import numpy as np \n",
    "\n",
    "VAL_RATIO = 0.2 \n",
    "\n",
    "def prepare_csv(seed=999):\n",
    "    file_path = '../data/reddit_train.csv'\n",
    "    file_path2 = '../data/reddit_test.csv'\n",
    "    df_train = pd.read_csv(file_path)\n",
    "    df_train[\"comments\"] = df_train.comments.str.replace(\"\\n\", \" \")\n",
    "    idx = np.arange(df_train.shape[0])\n",
    "    np.random.seed(seed)\n",
    "    np.random.shuffle(idx)\n",
    "    val_size = int(len(idx) * VAL_RATIO)\n",
    "    df_train.iloc[idx[val_size:], :].to_csv(\"../data/dataset_train.csv\", index=False)\n",
    "    df_train.iloc[idx[:val_size], :].to_csv(\"../data/dataset_val.csv\", index=False)\n",
    "    df_test = pd.read_csv(file_path2)\n",
    "    df_test[\"comments\"] = df_test.comments.str.replace(\"\\n\", \" \")\n",
    "    df_test.to_csv(\"../data/dataset_test.csv\", index=False)"
   ]
  },
  {
   "cell_type": "code",
   "execution_count": 13,
   "metadata": {},
   "outputs": [],
   "source": [
    "import re \n",
    "\n",
    "import spacy\n",
    "NLP = spacy.load('en')\n",
    "MAX_CHARS = 20000\n",
    "\n",
    "def tokenizer(comment):\n",
    "    comment = re.sub(r\"[\\*\\\"“”\\n\\\\…\\+\\-\\/\\=\\(\\)‘•:\\[\\]\\|’\\!;]\", \" \", str(comment))\n",
    "    comment = re.sub(r\"[ ]+\", \" \", comment)\n",
    "    comment = re.sub(r\"\\!+\", \"!\", comment)\n",
    "    comment = re.sub(r\"\\,+\", \",\", comment)\n",
    "    comment = re.sub(r\"\\?+\", \"?\", comment)\n",
    "    if (len(comment) > MAX_CHARS):\n",
    "        comment = comment[:MAX_CHARS]\n",
    "    return [x.text for x in NLP.tokenizer(comment) if x.text != \" \"]"
   ]
  },
  {
   "cell_type": "code",
   "execution_count": null,
   "metadata": {},
   "outputs": [],
   "source": [
    "import logging \n",
    "\n",
    "import torch\n",
    "from torchtext import data\n",
    "\n",
    "LOGGER = logging.getLogger(\"Reddit_dataset\")\n",
    "\n",
    "def get_datast(fix_lenght=100, lower=False, vectors=None):\n",
    "    if vectors is not None:\n",
    "        lower=True\n",
    "    LOGGER.debug(\"Preparing CSV files....\")\n",
    "    prepare_csv()\n",
    "    comment = data.Field(sequential=True, fix_length=fix_length, tokenizer=tokenizer,\n",
    "                        pad_first=True, tensor_type=torch.cuda.LongTensor, lower=lower)\n",
    "    LOGGER.debug(\"Reading train CSV file......\")\n",
    "    train, val = data.TabularDataset.splits(path='../data/', format='csv', skip_header=True\n",
    "                                           train='dataset_train,csv', validation='dataset_val.csv',\n",
    "                                           fields=[\n",
    "                                               ('id', None), \n",
    "                                               ('comments', comment),\n",
    "                                               \n",
    "                                           ])"
   ]
  }
 ],
 "metadata": {
  "kernelspec": {
   "display_name": "Python 3",
   "language": "python",
   "name": "python3"
  },
  "language_info": {
   "codemirror_mode": {
    "name": "ipython",
    "version": 3
   },
   "file_extension": ".py",
   "mimetype": "text/x-python",
   "name": "python",
   "nbconvert_exporter": "python",
   "pygments_lexer": "ipython3",
   "version": "3.6.8"
  }
 },
 "nbformat": 4,
 "nbformat_minor": 2
}
